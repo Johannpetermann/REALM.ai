{
  "nbformat": 4,
  "nbformat_minor": 0,
  "metadata": {
    "colab": {
      "provenance": []
    },
    "kernelspec": {
      "name": "python3",
      "display_name": "Python 3"
    },
    "language_info": {
      "name": "python"
    }
  },
  "cells": [
    {
      "cell_type": "code",
      "execution_count": null,
      "metadata": {
        "colab": {
          "base_uri": "https://localhost:8080/"
        },
        "id": "dOP9-scz9sLu",
        "outputId": "1efdbfc5-de08-4de2-a21c-571294e02d06"
      },
      "outputs": [
        {
          "output_type": "stream",
          "name": "stdout",
          "text": [
            "Collecting pycryptodome\n",
            "  Downloading pycryptodome-3.19.0-cp35-abi3-manylinux_2_17_x86_64.manylinux2014_x86_64.whl (2.1 MB)\n",
            "\u001b[2K     \u001b[90m━━━━━━━━━━━━━━━━━━━━━━━━━━━━━━━━━━━━━━━━\u001b[0m \u001b[32m2.1/2.1 MB\u001b[0m \u001b[31m20.4 MB/s\u001b[0m eta \u001b[36m0:00:00\u001b[0m\n",
            "\u001b[?25hInstalling collected packages: pycryptodome\n",
            "Successfully installed pycryptodome-3.19.0\n"
          ]
        }
      ],
      "source": [
        "!pip install pycryptodome\n",
        "\n",
        "from Crypto.Cipher import AES\n",
        "from Crypto.Util.Padding import pad, unpad\n",
        "from Crypto.Random import get_random_bytes\n",
        "import base64\n",
        "import json"
      ]
    },
    {
      "cell_type": "code",
      "source": [
        "model_card = {\n",
        "    \"model_name\": \"Model A\",\n",
        "    \"model_version\": \"1.0\",\n",
        "    \"model_description\": \"This is a description of Model A.\",\n",
        "    \"model_parameters\": {\n",
        "        \"param1\": \"value1\",\n",
        "        \"param2\": \"value2\"\n",
        "    }\n",
        "}\n",
        "\n",
        "x = model_card"
      ],
      "metadata": {
        "id": "WcW3J7UL95Ks"
      },
      "execution_count": null,
      "outputs": []
    },
    {
      "cell_type": "code",
      "source": [
        "key = '101IknowTheCode'.ljust(16)  # Replace with a strong secret key"
      ],
      "metadata": {
        "id": "u1dhEG1G99t-"
      },
      "execution_count": null,
      "outputs": []
    },
    {
      "cell_type": "code",
      "source": [
        "print(key)"
      ],
      "metadata": {
        "colab": {
          "base_uri": "https://localhost:8080/"
        },
        "id": "SdXQlde8Ezhk",
        "outputId": "c634f26c-4879-475d-b762-55ca035133e0"
      },
      "execution_count": null,
      "outputs": [
        {
          "output_type": "stream",
          "name": "stdout",
          "text": [
            "101IknowTheCode \n"
          ]
        }
      ]
    },
    {
      "cell_type": "code",
      "source": [
        "def serialize_model_card(x):\n",
        "    # Convert the model card into a JSON string\n",
        "    serialized_model_card = json.dumps(x)\n",
        "    return serialized_model_card\n",
        "\n",
        "def encrypt_model_card(x, key):\n",
        "    # Generate a random IV\n",
        "    iv = get_random_bytes(AES.block_size)\n",
        "\n",
        "    # Serialize the model card\n",
        "    serialized_model_card = serialize_model_card(x)\n",
        "\n",
        "    # Use AES for encryption with CBC mode and the random IV\n",
        "    cipher = AES.new(key.encode(), AES.MODE_CBC, iv)\n",
        "\n",
        "    # Pad the data before encrypting\n",
        "    padded_data = pad(serialized_model_card.encode(), AES.block_size)\n",
        "\n",
        "    # Encrypt the data\n",
        "    encrypted_data = cipher.encrypt(padded_data)\n",
        "\n",
        "    # Combine IV and encrypted data, then encode in base64 for storage\n",
        "    hashed_value = base64.b64encode(iv + encrypted_data).decode()\n",
        "\n",
        "    return hashed_value\n",
        "\n",
        "# Hashing\n",
        "hashed_value = encrypt_model_card(model_card, key)\n",
        "print(f'Hashed value: {hashed_value}')"
      ],
      "metadata": {
        "colab": {
          "base_uri": "https://localhost:8080/"
        },
        "id": "XqJaEYRI9-Qv",
        "outputId": "b09f5ec4-8903-42ab-e7d0-4164766727b4"
      },
      "execution_count": null,
      "outputs": [
        {
          "output_type": "stream",
          "name": "stdout",
          "text": [
            "Hashed value: s5tMTpk5I/IJDzxlF6c1lb9VKb+Sa4zVxgacYNKSPQSacaQ2Q+WSaZu3gPLmUcCg3JQRn4VynmVk/Ljlq6uf4WiwE9SfX+ldHSlKySjcRmo93FkUy9JKay6bpxLbxjzdZFgqS5R6VPv7Y88BdQqGXI/YJ1Ot4xm0eHVrg4yzFV7wn8gq+d366ghbyEQ+XxZiRgy6csvM/7gUX4Q3wFcKZoSQRbHdMAenPxfm50WvDmYwbIX/1GAylxcL//iFJozt\n"
          ]
        }
      ]
    },
    {
      "cell_type": "code",
      "source": [
        "def decrypt_model_card(hashed_value, key):\n",
        "    # Decode the base64 encoded hashed value\n",
        "    hashed_bytes = base64.b64decode(hashed_value)\n",
        "\n",
        "    # Extract the IV from the hashed value\n",
        "    iv = hashed_bytes[:AES.block_size]\n",
        "\n",
        "    # Use AES for decryption with the extracted IV\n",
        "    cipher = AES.new(key.encode(), AES.MODE_CBC, iv)\n",
        "\n",
        "    try:\n",
        "        # Decrypt and unpad the data\n",
        "        decrypted_data = unpad(cipher.decrypt(hashed_bytes[AES.block_size:]), AES.block_size)\n",
        "\n",
        "        # Try decoding as UTF-8\n",
        "        try:\n",
        "            model_card = json.loads(decrypted_data.decode('utf-8'))\n",
        "        except UnicodeDecodeError:\n",
        "            # If decoding as UTF-8 fails, try Latin-1\n",
        "            model_card = json.loads(decrypted_data.decode('latin-1'))\n",
        "\n",
        "        return model_card\n",
        "    except Exception as e:\n",
        "        print(f\"Error during decryption: {str(e)}\")\n",
        "        return None\n",
        "\n",
        "# Unhashing\n",
        "unhashed_model_card = decrypt_model_card(hashed_value, key)\n",
        "print('Unhashed model card:', unhashed_model_card)"
      ],
      "metadata": {
        "colab": {
          "base_uri": "https://localhost:8080/"
        },
        "id": "MBoAtTmc-JwI",
        "outputId": "97edf6c3-2963-4d39-c81f-7917ac0e6316"
      },
      "execution_count": null,
      "outputs": [
        {
          "output_type": "stream",
          "name": "stdout",
          "text": [
            "Unhashed model card: {'model_name': 'Model A', 'model_version': '1.0', 'model_description': 'This is a description of Model A.', 'model_parameters': {'param1': 'value1', 'param2': 'value2'}}\n"
          ]
        }
      ]
    }
  ]
}
